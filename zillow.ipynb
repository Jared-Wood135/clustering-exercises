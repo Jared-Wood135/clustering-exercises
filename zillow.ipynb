{
 "cells": [
  {
   "cell_type": "markdown",
   "id": "f09fe8ee",
   "metadata": {},
   "source": [
    "<div style=\"background-color: orange\">\n",
    "<a id='TableOfContents'></a>\n",
    "    <b><u><i><h1 style='text-align: center'>\n",
    "        Table of Contents\n",
    "    </h1></i></u></b>\n",
    "<li><a href='#imports'>Imports</a></li>\n",
    "<li><a href='#zillow'>Zillow Set</a></li>\n",
    "<li><a href='#mall'>Mall Set</a></li>"
   ]
  },
  {
   "cell_type": "markdown",
   "id": "61c0e902",
   "metadata": {},
   "source": [
    "<div style='background-color: orange'>\n",
    "<a id='imports'></a>\n",
    "    <b><u><i><h1 style='text-align: center'>\n",
    "        Imports\n",
    "    </h1></i></u></b>\n",
    "<li><a href='#TableOfContents'>Table of Contents</a></li>"
   ]
  },
  {
   "cell_type": "code",
   "execution_count": null,
   "id": "112ae001",
   "metadata": {},
   "outputs": [],
   "source": []
  },
  {
   "cell_type": "markdown",
   "id": "74875b3f",
   "metadata": {},
   "source": [
    "<div style='background-color: orange'>\n",
    "<a id='zillow'></a>\n",
    "    <b><u><i><h1 style='text-align: center'>\n",
    "        Zillow Set\n",
    "    </h1></i></u></b>\n",
    "<li><a href='#TableOfContents'>Table of Contents</a></li>\n",
    "<li><a href='#as1'>Acquire and Summarize // Q1</a></li>\n",
    "<li><a href='#as2'>Acquire and Summarize // Q2</a></li>\n",
    "<li><a href='#as3'>Acquire and Summarize // Q3</a></li>\n",
    "<li><a href='#p1'>Prepare // Q1</a></li>\n",
    "<li><a href='#p2'>Prepare // Q2</a></li>\n",
    "<li><a href='#p3'>Prepare // Q3</a></li>"
   ]
  },
  {
   "cell_type": "markdown",
   "id": "0226bb83",
   "metadata": {},
   "source": [
    "<a id='as1'></a>\n",
    "### Acquire and Summarize // Q1:\n",
    "<li><a href='#zillow'>Zillow Set</a></li>\n",
    "\n",
    "1. Acquire data from the cloud database.\n",
    "\n",
    "You will want to end with a single dataframe. Include the logerror field and all other fields related to the properties that are available. You will end up using all the tables in the database.\n",
    "\n",
    "Be sure to do the correct join (inner, outer, etc.). We do not want to eliminate properties purely because they may have a null value for airconditioningtypeid. - Only include properties with a transaction in 2017, and include only the last transaction for each property (so no duplicate property ID's), along with zestimate error and date of transaction. (Hint: read the docs for the .duplicated method) - Only include properties that have a latitude and longitude value."
   ]
  },
  {
   "cell_type": "code",
   "execution_count": null,
   "id": "065e9025",
   "metadata": {},
   "outputs": [],
   "source": []
  },
  {
   "cell_type": "markdown",
   "id": "244084aa",
   "metadata": {},
   "source": [
    "---"
   ]
  },
  {
   "cell_type": "markdown",
   "id": "def6d39d",
   "metadata": {},
   "source": [
    "<a id='as2'></a>\n",
    "### Acquire and Summarize // Q2:\n",
    "<li><a href='#zillow'>Zillow Set</a></li>\n",
    "\n",
    "2. Summarize your data (summary stats, info, dtypes, shape, distributions, value_counts, etc.)"
   ]
  },
  {
   "cell_type": "code",
   "execution_count": null,
   "id": "5f24761d",
   "metadata": {},
   "outputs": [],
   "source": []
  },
  {
   "cell_type": "markdown",
   "id": "5caac649",
   "metadata": {},
   "source": [
    "---"
   ]
  },
  {
   "cell_type": "markdown",
   "id": "7889e9c2",
   "metadata": {},
   "source": [
    "<a id='as3'></a>\n",
    "### Acquire and Summarize // Q3:\n",
    "<li><a href='#zillow'>Zillow Set</a></li>\n",
    "\n",
    "3. Write a function that takes in a dataframe of observations and attributes and returns a dataframe where each row is an atttribute name, the first column is the number of rows with missing values for that attribute, and the second column is percent of total rows that have missing values for that attribute. Run the function and document takeaways from this on how you want to handle missing values.\n",
    "\n",
    "The output should look like the table below:\n",
    "\n",
    "|  | num_rows_missing | pct_rows_missing |\n",
    "| :----- | :-----: | :-----: |\n",
    "| parcelid | 0 | 0.000000 |\n",
    "| airconditioningtypeid\t| 29041 | 0.535486 |\n",
    "|architecturalstyletypeid | 54232 | 0.999982 |"
   ]
  },
  {
   "cell_type": "code",
   "execution_count": null,
   "id": "602de795",
   "metadata": {},
   "outputs": [],
   "source": []
  },
  {
   "cell_type": "markdown",
   "id": "f7f92061",
   "metadata": {},
   "source": [
    "---"
   ]
  },
  {
   "cell_type": "markdown",
   "id": "395dbac5",
   "metadata": {},
   "source": [
    "<a id='p1'></a>\n",
    "### Prepare // Q1:\n",
    "<li><a href='#zillow'>Zillow Set</a></li>\n",
    "\n",
    "1. Remove any properties that are likely to be something other than single unit properties. (e.g. no duplexes, no land/lot, ...). There are multiple ways to estimate that a property is a single unit, and there is not a single \"right\" answer."
   ]
  },
  {
   "cell_type": "code",
   "execution_count": null,
   "id": "894d177f",
   "metadata": {},
   "outputs": [],
   "source": []
  },
  {
   "cell_type": "markdown",
   "id": "ca8fdf84",
   "metadata": {},
   "source": [
    "---"
   ]
  },
  {
   "cell_type": "markdown",
   "id": "63ad9458",
   "metadata": {},
   "source": [
    "<a id='p2'></a>\n",
    "### Prepare // Q2:\n",
    "<li><a href='#zillow'>Zillow Set</a></li>\n",
    "\n",
    "2. Create a function that will drop rows or columns based on the percent of values that are missing: handle_missing_values(df, prop_required_column, prop_required_row).\n",
    "\n",
    "- The input:\n",
    "    - A dataframe\n",
    "    - A number between 0 and 1 that represents the proportion, for each column, of rows with non-missing values required to keep the column. i.e. if prop_required_column = .6, then you are requiring a column to have at least 60% of values not-NA (no more than 40% missing).\n",
    "    - A number between 0 and 1 that represents the proportion, for each row, of columns/variables with non-missing values required to keep the row. For example, if prop_required_row = .75, then you are requiring a row to have at least 75% of variables with a non-missing value (no more that 25% missing).\n",
    "- The output:\n",
    "    - The dataframe with the columns and rows dropped as indicated. Be sure to drop the columns prior to the rows in your function.\n",
    "- Hint:\n",
    "    - Look up the dropna documentation.\n",
    "    - You will want to compute a threshold from your input values (prop_required) and total number of rows or columns."
   ]
  },
  {
   "cell_type": "code",
   "execution_count": null,
   "id": "7f746d4a",
   "metadata": {},
   "outputs": [],
   "source": []
  },
  {
   "cell_type": "markdown",
   "id": "38d9a9e1",
   "metadata": {},
   "source": [
    "---"
   ]
  },
  {
   "cell_type": "markdown",
   "id": "8acd1c30",
   "metadata": {},
   "source": [
    "<a id='p3'></a>\n",
    "### Prepare // Q3:\n",
    "<li><a href='#zillow'>Zillow Set</a></li>\n",
    "\n",
    "3. Encapsulate your work inside of functions in a wrangle_zillow.py module."
   ]
  },
  {
   "cell_type": "code",
   "execution_count": null,
   "id": "a51d9d12",
   "metadata": {},
   "outputs": [],
   "source": []
  },
  {
   "cell_type": "markdown",
   "id": "e3a10faf",
   "metadata": {},
   "source": [
    "<div style='background-color: orange'>\n",
    "<a id='mall'></a>\n",
    "    <b><u><i><h1 style='text-align: center'>\n",
    "        Mall Set\n",
    "    </h1></i></u></b>\n",
    "<li><a href='#TableOfContents'>Table of Contents</a></li>\n",
    "<li><a href='#mallacquire'>Acquire // Q1</a></li>\n",
    "<li><a href='#mallsum'>Summary // Q2</a></li>\n",
    "<li><a href='#malloutlier'>Outliers // Q3</a></li>\n",
    "<li><a href='#mallsplit'>Split // Q4</a></li>\n",
    "<li><a href='#mallencode'>Encode // Q5</a></li>\n",
    "<li><a href='#mallmiss'>Nulls // Q6</a></li>\n",
    "<li><a href='#mallscale'>Scaling // Q7</a></li>"
   ]
  },
  {
   "cell_type": "markdown",
   "id": "fade283c",
   "metadata": {},
   "source": [
    "<a id='mallacquire'></a>\n",
    "### Acquire // Q1:\n",
    "<li><a href='#mall'>Mall Set</a></li>\n",
    "\n",
    "1. Acquire data from the customers table in the mall_customers database."
   ]
  },
  {
   "cell_type": "code",
   "execution_count": null,
   "id": "14241f48",
   "metadata": {},
   "outputs": [],
   "source": []
  },
  {
   "cell_type": "markdown",
   "id": "5e40bb20",
   "metadata": {},
   "source": [
    "---"
   ]
  },
  {
   "cell_type": "markdown",
   "id": "47d8d8e0",
   "metadata": {},
   "source": [
    "<a id='mallsum'></a>\n",
    "### Summary // Q2:\n",
    "<li><a href='#mall'>Mall Set</a></li>\n",
    "\n",
    "2. Summarize the data (include distributions and descriptive statistics)."
   ]
  },
  {
   "cell_type": "code",
   "execution_count": null,
   "id": "f3c0d148",
   "metadata": {},
   "outputs": [],
   "source": []
  },
  {
   "cell_type": "markdown",
   "id": "79d4268d",
   "metadata": {},
   "source": [
    "---"
   ]
  },
  {
   "cell_type": "markdown",
   "id": "e14561a7",
   "metadata": {},
   "source": [
    "<a id='malloutlier'></a>\n",
    "### Outliers // Q3:\n",
    "<li><a href='#mall'>Mall Set</a></li>\n",
    "\n",
    "3. Detect outliers using IQR."
   ]
  },
  {
   "cell_type": "code",
   "execution_count": null,
   "id": "37747e6b",
   "metadata": {},
   "outputs": [],
   "source": []
  },
  {
   "cell_type": "markdown",
   "id": "8c9cb509",
   "metadata": {},
   "source": [
    "---"
   ]
  },
  {
   "cell_type": "markdown",
   "id": "4f1bb5bc",
   "metadata": {},
   "source": [
    "<a id='mallsplit'></a>\n",
    "### Split // Q4:\n",
    "<li><a href='#mall'>Mall Set</a></li>\n",
    "\n",
    "4. Split data into train, validate, and test."
   ]
  },
  {
   "cell_type": "code",
   "execution_count": null,
   "id": "77958504",
   "metadata": {},
   "outputs": [],
   "source": []
  },
  {
   "cell_type": "markdown",
   "id": "153c28f9",
   "metadata": {},
   "source": [
    "---"
   ]
  },
  {
   "cell_type": "markdown",
   "id": "2fd4f554",
   "metadata": {},
   "source": [
    "<a id='mallencode'></a>\n",
    "### Encode // Q5:\n",
    "<li><a href='#mall'>Mall Set</a></li>\n",
    "\n",
    "5. Encode categorical columns using a one hot encoder (pd.get_dummies)."
   ]
  },
  {
   "cell_type": "code",
   "execution_count": null,
   "id": "2beae295",
   "metadata": {},
   "outputs": [],
   "source": []
  },
  {
   "cell_type": "markdown",
   "id": "b97b9432",
   "metadata": {},
   "source": [
    "---"
   ]
  },
  {
   "cell_type": "markdown",
   "id": "8d3e66a3",
   "metadata": {},
   "source": [
    "<a id='mallmiss'></a>\n",
    "### Nulls // Q6:\n",
    "<li><a href='#mall'>Mall Set</a></li>\n",
    "\n",
    "6. Handles missing values."
   ]
  },
  {
   "cell_type": "code",
   "execution_count": null,
   "id": "4451e1fa",
   "metadata": {},
   "outputs": [],
   "source": []
  },
  {
   "cell_type": "markdown",
   "id": "f018552f",
   "metadata": {},
   "source": [
    "---"
   ]
  },
  {
   "cell_type": "markdown",
   "id": "461ee3fb",
   "metadata": {},
   "source": [
    "<a id='mallscale'></a>\n",
    "### Scaling // Q7:\n",
    "<li><a href='#mall'>Mall Set</a></li>\n",
    "\n",
    "7. Scaling"
   ]
  },
  {
   "cell_type": "code",
   "execution_count": null,
   "id": "3d62e035",
   "metadata": {},
   "outputs": [],
   "source": []
  }
 ],
 "metadata": {
  "kernelspec": {
   "display_name": "Python 3 (ipykernel)",
   "language": "python",
   "name": "python3"
  },
  "language_info": {
   "codemirror_mode": {
    "name": "ipython",
    "version": 3
   },
   "file_extension": ".py",
   "mimetype": "text/x-python",
   "name": "python",
   "nbconvert_exporter": "python",
   "pygments_lexer": "ipython3",
   "version": "3.9.13"
  }
 },
 "nbformat": 4,
 "nbformat_minor": 5
}
