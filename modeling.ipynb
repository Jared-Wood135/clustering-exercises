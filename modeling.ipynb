{
 "cells": [
  {
   "cell_type": "markdown",
   "id": "cb2670a7",
   "metadata": {},
   "source": [
    "<div style='background-color: orange'>\n",
    "<a id='TableOfContents'></a>\n",
    "    <b><u><i><h1 style='text-align: center'>\n",
    "        Table of Contents\n",
    "    </h1></i></u></b>\n",
    "<li><a href='#imports'>Imports</a></li>\n",
    "<li><a href='#q1'>Question 1</a></li>\n",
    "<li><a href='#q2'>Question 2</a></li>\n",
    "<li><a href='#q3'>Question 3</a></li>\n",
    "<li><a href='#bonus'>Bonus</a></li>"
   ]
  },
  {
   "cell_type": "markdown",
   "id": "e8efecc4",
   "metadata": {},
   "source": [
    "<div style='background-color: orange'>\n",
    "<a id='imports'></a>\n",
    "    <b><u><i><h1 style='text-align: center'>\n",
    "        Imports\n",
    "    </h1></i></u></b>\n",
    "<li><a href='#TableOfContents'>Table of Contents</a></li>"
   ]
  },
  {
   "cell_type": "code",
   "execution_count": null,
   "id": "16df0d28",
   "metadata": {},
   "outputs": [],
   "source": []
  },
  {
   "cell_type": "markdown",
   "id": "758875c7",
   "metadata": {},
   "source": [
    "<div style='background-color: orange'>\n",
    "<a id='q1'></a>\n",
    "    <b><u><i><h1 style='text-align: center'>\n",
    "        Question 1\n",
    "    </h1></i></u></b>\n",
    "<li><a href='#TableOfContents'>Table of Contents</a></li>\n",
    "<li><a href='#q1a'>Question 1a</a></li>\n",
    "<li><a href='#q1b'>Question 1b</a></li>\n",
    "<li><a href='#q1c'>Question 1c</a></li>\n",
    "<li><a href='#q1d'>Question 1d</a></li>"
   ]
  },
  {
   "cell_type": "markdown",
   "id": "795230f4",
   "metadata": {},
   "source": [
    "Clustering with the Iris Dataset\n",
    "\n",
    "Using this lesson as a guide, perform clustering on the iris dataset."
   ]
  },
  {
   "cell_type": "markdown",
   "id": "a5899294",
   "metadata": {},
   "source": [
    "<a id='q1a'></a>\n",
    "### 1a. Choose features other than the ones used in the lesson.\n",
    "\n",
    "<li><a href='#TableOfContents'>Table of Contents</a></li>\n",
    "<li><a href='#q1'>Question 1 Top</a></li>"
   ]
  },
  {
   "cell_type": "code",
   "execution_count": null,
   "id": "d1183684",
   "metadata": {},
   "outputs": [],
   "source": []
  },
  {
   "cell_type": "markdown",
   "id": "8545dac6",
   "metadata": {},
   "source": [
    "---"
   ]
  },
  {
   "cell_type": "markdown",
   "id": "a20f2c05",
   "metadata": {},
   "source": [
    "<a id='q1b'></a>\n",
    "### 1b. Visualize the results of your clustering.\n",
    "\n",
    "<li><a href='#TableOfContents'>Table of Contents</a></li>\n",
    "<li><a href='#q1'>Question 1 Top</a></li>"
   ]
  },
  {
   "cell_type": "code",
   "execution_count": null,
   "id": "0e8fc3ab",
   "metadata": {},
   "outputs": [],
   "source": []
  },
  {
   "cell_type": "markdown",
   "id": "b8f47a8d",
   "metadata": {},
   "source": [
    "---"
   ]
  },
  {
   "cell_type": "markdown",
   "id": "3488caa8",
   "metadata": {},
   "source": [
    "<a id='q1c'></a>\n",
    "### 1c. Use the elbow method to visually select a good value for k.\n",
    "\n",
    "\n",
    "<li><a href='#TableOfContents'>Table of Contents</a></li>\n",
    "<li><a href='#q1'>Question 1 Top</a></li>"
   ]
  },
  {
   "cell_type": "code",
   "execution_count": null,
   "id": "4246e08e",
   "metadata": {},
   "outputs": [],
   "source": []
  },
  {
   "cell_type": "markdown",
   "id": "48124394",
   "metadata": {},
   "source": [
    "---"
   ]
  },
  {
   "cell_type": "markdown",
   "id": "37ceeeba",
   "metadata": {},
   "source": [
    "<a id='q1d'></a>\n",
    "### 1d. Repeat the clustering, this time with 3 different features.\n",
    "\n",
    "\n",
    "<li><a href='#TableOfContents'>Table of Contents</a></li>\n",
    "<li><a href='#q1'>Question 1 Top</a></li>"
   ]
  },
  {
   "cell_type": "code",
   "execution_count": null,
   "id": "75803e25",
   "metadata": {},
   "outputs": [],
   "source": []
  },
  {
   "cell_type": "markdown",
   "id": "62e8fd7a",
   "metadata": {},
   "source": [
    "<div style='background-color: orange'>\n",
    "<a id='q2'></a>\n",
    "    <b><u><i><h1 style='text-align: center'>\n",
    "        Question 2\n",
    "    </h1></i></u></b>\n",
    "<li><a href='#TableOfContents'>Table of Contents</a></li>"
   ]
  },
  {
   "cell_type": "markdown",
   "id": "731035c8",
   "metadata": {},
   "source": [
    "### 2. Use the techniques discussed in this lesson, as well as the insights gained from the exploration exercise to perform clustering on the mall customers dataset. Be sure to visualize your results!"
   ]
  },
  {
   "cell_type": "code",
   "execution_count": null,
   "id": "02189171",
   "metadata": {},
   "outputs": [],
   "source": []
  },
  {
   "cell_type": "markdown",
   "id": "3837c06c",
   "metadata": {},
   "source": [
    "<div style='background-color: orange'>\n",
    "<a id='q3'></a>\n",
    "    <b><u><i><h1 style='text-align: center'>\n",
    "        Question 3\n",
    "    </h1></i></u></b>\n",
    "<li><a href='#TableOfContents'>Table of Contents</a></li>"
   ]
  },
  {
   "cell_type": "markdown",
   "id": "dbdcdc02",
   "metadata": {},
   "source": [
    "### 3. How does scaling impact the results of clustering?\n",
    "\n",
    "### Compare k-means clustering results on scaled and unscaled data (you can choose any dataset for this exercise OR use the data/steps outlined in the bonus below). You can show how the resulting clusters differ either with descriptive statistics or visually."
   ]
  },
  {
   "cell_type": "code",
   "execution_count": null,
   "id": "150717a5",
   "metadata": {},
   "outputs": [],
   "source": []
  },
  {
   "cell_type": "markdown",
   "id": "2fa3ec84",
   "metadata": {},
   "source": [
    "<div style='background-color: orange'>\n",
    "<a id='bonus'></a>\n",
    "    <b><u><i><h1 style='text-align: center'>\n",
    "        Bonus\n",
    "    </h1></i></u></b>\n",
    "<li><a href='#TableOfContents'>Table of Contents</a></li>\n",
    "<li><a href='#bonusa'>Bonus-a</a></li>\n",
    "<li><a href='#bonusb'>Bonus-b</a></li>\n",
    "<li><a href='#bonusc'>Bonus-c</a></li>\n",
    "<li><a href='#bonusd'>Bonus-d</a></li>\n",
    "<li><a href='#bonuse'>Bonus-e</a></li>"
   ]
  },
  {
   "cell_type": "markdown",
   "id": "3e31bfcf",
   "metadata": {},
   "source": [
    "<a id='bonusa'></a>\n",
    "### Bonus-a. Read in the data from this google sheet: https://docs.google.com/spreadsheets/d/1j5EgXVTR5ikUj3G5ZCQmkq6ziz_gvtASGAdw23-5_6M/edit?usp=sharing\n",
    "\n",
    "<li><a href='#TableOfContents'>Table of Contents</a></li>\n",
    "<li><a href='#bonus'>Bonus Top</a></li>"
   ]
  },
  {
   "cell_type": "code",
   "execution_count": null,
   "id": "c3d698d7",
   "metadata": {},
   "outputs": [],
   "source": []
  },
  {
   "cell_type": "markdown",
   "id": "06dc0088",
   "metadata": {},
   "source": [
    "---"
   ]
  },
  {
   "cell_type": "markdown",
   "id": "fd552686",
   "metadata": {},
   "source": [
    "<a id='bonusb'></a>\n",
    "### Bonus-b. Visualize the data and guess the number and shape of the clusters.\n",
    "\n",
    "<li><a href='#TableOfContents'>Table of Contents</a></li>\n",
    "<li><a href='#bonus'>Bonus Top</a></li>"
   ]
  },
  {
   "cell_type": "code",
   "execution_count": null,
   "id": "30f815cc",
   "metadata": {},
   "outputs": [],
   "source": []
  },
  {
   "cell_type": "markdown",
   "id": "cc1d1c9e",
   "metadata": {},
   "source": [
    "---"
   ]
  },
  {
   "cell_type": "markdown",
   "id": "76a26528",
   "metadata": {},
   "source": [
    "<a id='bonusc'></a>\n",
    "### Bonus-c. Implement the KMeans algorithm on unscaled data and visualize the clusters.\n",
    "\n",
    "<li><a href='#TableOfContents'>Table of Contents</a></li>\n",
    "<li><a href='#bonus'>Bonus Top</a></li>"
   ]
  },
  {
   "cell_type": "code",
   "execution_count": null,
   "id": "ca3b663c",
   "metadata": {},
   "outputs": [],
   "source": []
  },
  {
   "cell_type": "markdown",
   "id": "c483801e",
   "metadata": {},
   "source": [
    "---"
   ]
  },
  {
   "cell_type": "markdown",
   "id": "8ab834f2",
   "metadata": {},
   "source": [
    "<a id='bonusd'></a>\n",
    "### Bonus-d. Repeat the step above but with scaled data.\n",
    "\n",
    "<li><a href='#TableOfContents'>Table of Contents</a></li>\n",
    "<li><a href='#bonus'>Bonus Top</a></li>"
   ]
  },
  {
   "cell_type": "code",
   "execution_count": null,
   "id": "40d82f95",
   "metadata": {},
   "outputs": [],
   "source": []
  },
  {
   "cell_type": "markdown",
   "id": "e93fe70d",
   "metadata": {},
   "source": [
    "---"
   ]
  },
  {
   "cell_type": "markdown",
   "id": "548700b7",
   "metadata": {},
   "source": [
    "<a id='bonuse'></a>\n",
    "### Bonus-e. Write down the takeaways from this exercise.\n",
    "\n",
    "<li><a href='#TableOfContents'>Table of Contents</a></li>\n",
    "<li><a href='#bonus'>Bonus Top</a></li>"
   ]
  },
  {
   "cell_type": "code",
   "execution_count": null,
   "id": "98bfcf7c",
   "metadata": {},
   "outputs": [],
   "source": []
  }
 ],
 "metadata": {
  "kernelspec": {
   "display_name": "Python 3 (ipykernel)",
   "language": "python",
   "name": "python3"
  },
  "language_info": {
   "codemirror_mode": {
    "name": "ipython",
    "version": 3
   },
   "file_extension": ".py",
   "mimetype": "text/x-python",
   "name": "python",
   "nbconvert_exporter": "python",
   "pygments_lexer": "ipython3",
   "version": "3.9.13"
  }
 },
 "nbformat": 4,
 "nbformat_minor": 5
}
